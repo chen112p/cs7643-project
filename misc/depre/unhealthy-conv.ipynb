{
 "cells": [
  {
   "cell_type": "code",
   "execution_count": 31,
   "metadata": {},
   "outputs": [],
   "source": [
    "import pandas as pd\n",
    "import os\n",
    "import scripts\n",
    "import importlib\n",
    "importlib.reload(scripts)\n",
    "root_level = r'..'\n",
    "\n",
    "full_data = pd.read_csv(os.path.join(root_level,\n",
    "                                     'data',\n",
    "                                     'data-lv1',\n",
    "                                     'unhealthy-conversations',\n",
    "                                     'unhealthy_full.csv'))"
   ]
  },
  {
   "cell_type": "code",
   "execution_count": 32,
   "metadata": {},
   "outputs": [
    {
     "name": "stdout",
     "output_type": "stream",
     "text": [
      "\u001b[0;31mSignature:\u001b[0m \u001b[0mscripts\u001b[0m\u001b[0;34m.\u001b[0m\u001b[0mprocess_unhealthy_conv\u001b[0m\u001b[0;34m(\u001b[0m\u001b[0mfull_data\u001b[0m\u001b[0;34m,\u001b[0m \u001b[0mthreshold\u001b[0m\u001b[0;34m=\u001b[0m\u001b[0;34m[\u001b[0m\u001b[0;36m0\u001b[0m\u001b[0;34m,\u001b[0m \u001b[0;36m0.5\u001b[0m\u001b[0;34m]\u001b[0m\u001b[0;34m)\u001b[0m\u001b[0;34m\u001b[0m\u001b[0;34m\u001b[0m\u001b[0m\n",
      "\u001b[0;31mDocstring:\u001b[0m\n",
      "out of antagonize,condescending,dismissive,generalisation,generalisation_unfair,healthy,hostile,sarcastic labels,\n",
      "i selected antagonize and hostile as \"hateful\"\n",
      "If equal or less than threshold[0] (default 0%) of the rater think a comment is hateful, then it is non-hateful;\n",
      "If equal or more than threshold[1] (default 50%) of the rater think a comment is hateful, then it is hateful;\n",
      "Comment that are neither considered as hateful or non-hateful are removed (considered as unsure)\n",
      "Junting Chen\n",
      "\u001b[0;31mFile:\u001b[0m      /mnt/f/ubuntu/learn/OMSA/CS7643/project/cs7643-project/data-analysis/scripts.py\n",
      "\u001b[0;31mType:\u001b[0m      function"
     ]
    }
   ],
   "source": [
    "?scripts.process_unhealthy_conv"
   ]
  },
  {
   "cell_type": "code",
   "execution_count": 35,
   "metadata": {},
   "outputs": [
    {
     "name": "stdout",
     "output_type": "stream",
     "text": [
      "Percentage of offensive: 17.690\n",
      "Percentage of non-offensive: 82.310\n",
      "Total number of rows in the output: 34867\n"
     ]
    }
   ],
   "source": [
    "grouped_offensive_or_not = scripts.process_unhealthy_conv(full_data, \n",
    "                                                threshold = [0,0.5])\n",
    "out_path = os.path.join(root_level,\n",
    "                        'data',\n",
    "                        'data-lv2',\n",
    "                        'unhealthy-conv.csv')\n",
    "grouped_offensive_or_not.to_csv(out_path,index=None)"
   ]
  },
  {
   "cell_type": "code",
   "execution_count": 34,
   "metadata": {},
   "outputs": [
    {
     "data": {
      "text/html": [
       "<div>\n",
       "<style scoped>\n",
       "    .dataframe tbody tr th:only-of-type {\n",
       "        vertical-align: middle;\n",
       "    }\n",
       "\n",
       "    .dataframe tbody tr th {\n",
       "        vertical-align: top;\n",
       "    }\n",
       "\n",
       "    .dataframe thead th {\n",
       "        text-align: right;\n",
       "    }\n",
       "</style>\n",
       "<table border=\"1\" class=\"dataframe\">\n",
       "  <thead>\n",
       "    <tr style=\"text-align: right;\">\n",
       "      <th></th>\n",
       "      <th>_unit_id</th>\n",
       "      <th>comment</th>\n",
       "      <th>offensive</th>\n",
       "    </tr>\n",
       "  </thead>\n",
       "  <tbody>\n",
       "    <tr>\n",
       "      <th>0</th>\n",
       "      <td>1739440413</td>\n",
       "      <td>You don't understand international finance do ...</td>\n",
       "      <td>True</td>\n",
       "    </tr>\n",
       "    <tr>\n",
       "      <th>1</th>\n",
       "      <td>1739440414</td>\n",
       "      <td>LMAO, you're using the wild west to educate yo...</td>\n",
       "      <td>True</td>\n",
       "    </tr>\n",
       "    <tr>\n",
       "      <th>2</th>\n",
       "      <td>1739440415</td>\n",
       "      <td>Oh he’s gonna be killed on live tv huh? Are yo...</td>\n",
       "      <td>True</td>\n",
       "    </tr>\n",
       "    <tr>\n",
       "      <th>3</th>\n",
       "      <td>1739440416</td>\n",
       "      <td>A vacuous comment from a simple mind.</td>\n",
       "      <td>True</td>\n",
       "    </tr>\n",
       "    <tr>\n",
       "      <th>4</th>\n",
       "      <td>1739440417</td>\n",
       "      <td>no sweetheart, they're going to slowly buy up ...</td>\n",
       "      <td>True</td>\n",
       "    </tr>\n",
       "    <tr>\n",
       "      <th>...</th>\n",
       "      <td>...</td>\n",
       "      <td>...</td>\n",
       "      <td>...</td>\n",
       "    </tr>\n",
       "    <tr>\n",
       "      <th>34862</th>\n",
       "      <td>2327215253</td>\n",
       "      <td>Yes, I would just love to know who in the Cons...</td>\n",
       "      <td>False</td>\n",
       "    </tr>\n",
       "    <tr>\n",
       "      <th>34863</th>\n",
       "      <td>2327215254</td>\n",
       "      <td>GM Canada shares are $7.66 less than when Harp...</td>\n",
       "      <td>False</td>\n",
       "    </tr>\n",
       "    <tr>\n",
       "      <th>34864</th>\n",
       "      <td>2327215255</td>\n",
       "      <td>Still 9% ahead the last time I checked.</td>\n",
       "      <td>False</td>\n",
       "    </tr>\n",
       "    <tr>\n",
       "      <th>34865</th>\n",
       "      <td>2327215258</td>\n",
       "      <td>This has been addressed - see CanoeDave's post...</td>\n",
       "      <td>False</td>\n",
       "    </tr>\n",
       "    <tr>\n",
       "      <th>34866</th>\n",
       "      <td>2327215259</td>\n",
       "      <td>The child tax credit was federal only (check y...</td>\n",
       "      <td>False</td>\n",
       "    </tr>\n",
       "  </tbody>\n",
       "</table>\n",
       "<p>34867 rows × 3 columns</p>\n",
       "</div>"
      ],
      "text/plain": [
       "         _unit_id                                            comment  \\\n",
       "0      1739440413  You don't understand international finance do ...   \n",
       "1      1739440414  LMAO, you're using the wild west to educate yo...   \n",
       "2      1739440415  Oh he’s gonna be killed on live tv huh? Are yo...   \n",
       "3      1739440416              A vacuous comment from a simple mind.   \n",
       "4      1739440417  no sweetheart, they're going to slowly buy up ...   \n",
       "...           ...                                                ...   \n",
       "34862  2327215253  Yes, I would just love to know who in the Cons...   \n",
       "34863  2327215254  GM Canada shares are $7.66 less than when Harp...   \n",
       "34864  2327215255            Still 9% ahead the last time I checked.   \n",
       "34865  2327215258  This has been addressed - see CanoeDave's post...   \n",
       "34866  2327215259  The child tax credit was federal only (check y...   \n",
       "\n",
       "       offensive  \n",
       "0           True  \n",
       "1           True  \n",
       "2           True  \n",
       "3           True  \n",
       "4           True  \n",
       "...          ...  \n",
       "34862      False  \n",
       "34863      False  \n",
       "34864      False  \n",
       "34865      False  \n",
       "34866      False  \n",
       "\n",
       "[34867 rows x 3 columns]"
      ]
     },
     "execution_count": 34,
     "metadata": {},
     "output_type": "execute_result"
    }
   ],
   "source": [
    "grouped_offensive_or_not"
   ]
  },
  {
   "cell_type": "code",
   "execution_count": null,
   "metadata": {},
   "outputs": [],
   "source": []
  }
 ],
 "metadata": {
  "kernelspec": {
   "display_name": "cs7643-proj",
   "language": "python",
   "name": "python3"
  },
  "language_info": {
   "codemirror_mode": {
    "name": "ipython",
    "version": 3
   },
   "file_extension": ".py",
   "mimetype": "text/x-python",
   "name": "python",
   "nbconvert_exporter": "python",
   "pygments_lexer": "ipython3",
   "version": "3.12.2"
  }
 },
 "nbformat": 4,
 "nbformat_minor": 2
}
