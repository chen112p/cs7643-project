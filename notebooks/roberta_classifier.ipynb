{
 "cells": [
  {
   "cell_type": "code",
   "execution_count": null,
   "metadata": {},
   "outputs": [],
   "source": []
  },
  {
   "cell_type": "code",
   "execution_count": 14,
   "metadata": {},
   "outputs": [],
   "source": [
    "import sys\n",
    "sys.path.append('../')\n",
    "import os\n",
    "os.chdir('..')\n",
    "import torch\n",
    "from data import dataset\n",
    "from transformers import AutoTokenizer\n",
    "from torch.utils.data import DataLoader\n",
    "from models import distilroberta_classifier as drc\n",
    "from metrics import eval\n",
    "from solver import solver_llm\n",
    "import importlib\n",
    "import copy\n",
    "import matplotlib.pyplot as plt\n",
    "from datetime import datetime\n",
    "timestamp_str = datetime.now().strftime(\"%Y%m%d%H%M%S\")"
   ]
  },
  {
   "cell_type": "code",
   "execution_count": 9,
   "metadata": {},
   "outputs": [],
   "source": [
    "train_file=\"data/train_en.tsv\"\n",
    "test_file=\"data/dev_en.tsv\"\n",
    "model_name = 'distilroberta_classifer'\n",
    "\n",
    "tokenizer_dict = {\n",
    "    'distilroberta_classifer': 'roberta-base'\n",
    "}\n",
    "tokenizer = AutoTokenizer.from_pretrained(tokenizer_dict[model_name])\n",
    "device = 'cpu'\n",
    "\n",
    "train_dataset = dataset.RoBerta_Dataset(train_file,tokenizer,device = device)\n",
    "test_dataset = dataset.RoBerta_Dataset(test_file,tokenizer,device = device                                                                                                                                                                                                                                                                                                                                                                                                                                                                                                                                                                                                                                                                                                                                                                                                                 )\n",
    "train_batch_size = 16\n",
    "test_batch_size = 16\n",
    "train_loader = DataLoader(train_dataset, batch_size=train_batch_size, shuffle=True)\n",
    "test_loader = DataLoader(test_dataset, batch_size=test_batch_size, shuffle=True)\n"
   ]
  },
  {
   "cell_type": "code",
   "execution_count": 89,
   "metadata": {},
   "outputs": [
    {
     "name": "stdout",
     "output_type": "stream",
     "text": [
      "Epoch: [0][0/563]\tTime 1.828 (1.828)\tLoss 0.7824 (0.7824)\tPrec @1 0.3750 (0.3750)\t\n",
      "Train Accuracy of Class 0: 0.3077\n",
      "Train Accuracy of Class 1: 0.6667\n",
      "* Train Prec @1: 0.3750\n",
      "Epoch: [0][10/563]\tTime 1.177 (1.357)\tLoss 0.6227 (1.1758)\tPrec @1 0.7500 (0.5284)\t\n",
      "Train Accuracy of Class 0: 0.5792\n",
      "Train Accuracy of Class 1: 0.4837\n",
      "* Train Prec @1: 0.5284\n"
     ]
    },
    {
     "ename": "KeyboardInterrupt",
     "evalue": "",
     "output_type": "error",
     "traceback": [
      "\u001b[0;31m---------------------------------------------------------------------------\u001b[0m",
      "\u001b[0;31mKeyboardInterrupt\u001b[0m                         Traceback (most recent call last)",
      "Cell \u001b[0;32mIn[89], line 15\u001b[0m\n\u001b[1;32m     12\u001b[0m valid_acc_epoch \u001b[38;5;241m=\u001b[39m []\n\u001b[1;32m     13\u001b[0m \u001b[38;5;28;01mfor\u001b[39;00m epoch \u001b[38;5;129;01min\u001b[39;00m \u001b[38;5;28mrange\u001b[39m(EPOCH):\n\u001b[1;32m     14\u001b[0m     \u001b[38;5;66;03m# train loop\u001b[39;00m\n\u001b[0;32m---> 15\u001b[0m     train_acc, train_cm \u001b[38;5;241m=\u001b[39m \u001b[43msolver_llm\u001b[49m\u001b[38;5;241;43m.\u001b[39;49m\u001b[43mtrain_llm\u001b[49m\u001b[43m(\u001b[49m\u001b[43mepoch\u001b[49m\u001b[43m,\u001b[49m\u001b[43m \u001b[49m\u001b[43mtrain_loader\u001b[49m\u001b[43m,\u001b[49m\u001b[43m \u001b[49m\u001b[43mmodel\u001b[49m\u001b[43m,\u001b[49m\u001b[43m \u001b[49m\u001b[43moptimizer\u001b[49m\u001b[43m,\u001b[49m\u001b[43m \u001b[49m\u001b[43mcriterion\u001b[49m\u001b[43m)\u001b[49m\n\u001b[1;32m     16\u001b[0m     train_acc_epoch\u001b[38;5;241m.\u001b[39mappend(train_acc\u001b[38;5;241m.\u001b[39mdetach()\u001b[38;5;241m.\u001b[39mcpu()\u001b[38;5;241m.\u001b[39mnumpy())\n\u001b[1;32m     18\u001b[0m     \u001b[38;5;66;03m# validation loop\u001b[39;00m\n",
      "File \u001b[0;32m~/omsa/cs7643/project/cs7643-project/solver/solver_llm.py:19\u001b[0m, in \u001b[0;36mtrain_llm\u001b[0;34m(epoch, data_loader, model, optimizer, criterion)\u001b[0m\n\u001b[1;32m     17\u001b[0m loss \u001b[38;5;241m=\u001b[39m criterion(out, data[\u001b[38;5;124m'\u001b[39m\u001b[38;5;124mlabels\u001b[39m\u001b[38;5;124m'\u001b[39m])\n\u001b[1;32m     18\u001b[0m \u001b[38;5;66;03m# Backpropagation\u001b[39;00m\n\u001b[0;32m---> 19\u001b[0m \u001b[43mloss\u001b[49m\u001b[38;5;241;43m.\u001b[39;49m\u001b[43mbackward\u001b[49m\u001b[43m(\u001b[49m\u001b[43m)\u001b[49m\n\u001b[1;32m     20\u001b[0m optimizer\u001b[38;5;241m.\u001b[39mstep()\n\u001b[1;32m     21\u001b[0m optimizer\u001b[38;5;241m.\u001b[39mzero_grad()\n",
      "File \u001b[0;32m~/miniconda3/envs/cs7643-proj/lib/python3.12/site-packages/torch/_tensor.py:522\u001b[0m, in \u001b[0;36mTensor.backward\u001b[0;34m(self, gradient, retain_graph, create_graph, inputs)\u001b[0m\n\u001b[1;32m    512\u001b[0m \u001b[38;5;28;01mif\u001b[39;00m has_torch_function_unary(\u001b[38;5;28mself\u001b[39m):\n\u001b[1;32m    513\u001b[0m     \u001b[38;5;28;01mreturn\u001b[39;00m handle_torch_function(\n\u001b[1;32m    514\u001b[0m         Tensor\u001b[38;5;241m.\u001b[39mbackward,\n\u001b[1;32m    515\u001b[0m         (\u001b[38;5;28mself\u001b[39m,),\n\u001b[0;32m   (...)\u001b[0m\n\u001b[1;32m    520\u001b[0m         inputs\u001b[38;5;241m=\u001b[39minputs,\n\u001b[1;32m    521\u001b[0m     )\n\u001b[0;32m--> 522\u001b[0m \u001b[43mtorch\u001b[49m\u001b[38;5;241;43m.\u001b[39;49m\u001b[43mautograd\u001b[49m\u001b[38;5;241;43m.\u001b[39;49m\u001b[43mbackward\u001b[49m\u001b[43m(\u001b[49m\n\u001b[1;32m    523\u001b[0m \u001b[43m    \u001b[49m\u001b[38;5;28;43mself\u001b[39;49m\u001b[43m,\u001b[49m\u001b[43m \u001b[49m\u001b[43mgradient\u001b[49m\u001b[43m,\u001b[49m\u001b[43m \u001b[49m\u001b[43mretain_graph\u001b[49m\u001b[43m,\u001b[49m\u001b[43m \u001b[49m\u001b[43mcreate_graph\u001b[49m\u001b[43m,\u001b[49m\u001b[43m \u001b[49m\u001b[43minputs\u001b[49m\u001b[38;5;241;43m=\u001b[39;49m\u001b[43minputs\u001b[49m\n\u001b[1;32m    524\u001b[0m \u001b[43m\u001b[49m\u001b[43m)\u001b[49m\n",
      "File \u001b[0;32m~/miniconda3/envs/cs7643-proj/lib/python3.12/site-packages/torch/autograd/__init__.py:266\u001b[0m, in \u001b[0;36mbackward\u001b[0;34m(tensors, grad_tensors, retain_graph, create_graph, grad_variables, inputs)\u001b[0m\n\u001b[1;32m    261\u001b[0m     retain_graph \u001b[38;5;241m=\u001b[39m create_graph\n\u001b[1;32m    263\u001b[0m \u001b[38;5;66;03m# The reason we repeat the same comment below is that\u001b[39;00m\n\u001b[1;32m    264\u001b[0m \u001b[38;5;66;03m# some Python versions print out the first line of a multi-line function\u001b[39;00m\n\u001b[1;32m    265\u001b[0m \u001b[38;5;66;03m# calls in the traceback and some print out the last line\u001b[39;00m\n\u001b[0;32m--> 266\u001b[0m \u001b[43mVariable\u001b[49m\u001b[38;5;241;43m.\u001b[39;49m\u001b[43m_execution_engine\u001b[49m\u001b[38;5;241;43m.\u001b[39;49m\u001b[43mrun_backward\u001b[49m\u001b[43m(\u001b[49m\u001b[43m  \u001b[49m\u001b[38;5;66;43;03m# Calls into the C++ engine to run the backward pass\u001b[39;49;00m\n\u001b[1;32m    267\u001b[0m \u001b[43m    \u001b[49m\u001b[43mtensors\u001b[49m\u001b[43m,\u001b[49m\n\u001b[1;32m    268\u001b[0m \u001b[43m    \u001b[49m\u001b[43mgrad_tensors_\u001b[49m\u001b[43m,\u001b[49m\n\u001b[1;32m    269\u001b[0m \u001b[43m    \u001b[49m\u001b[43mretain_graph\u001b[49m\u001b[43m,\u001b[49m\n\u001b[1;32m    270\u001b[0m \u001b[43m    \u001b[49m\u001b[43mcreate_graph\u001b[49m\u001b[43m,\u001b[49m\n\u001b[1;32m    271\u001b[0m \u001b[43m    \u001b[49m\u001b[43minputs\u001b[49m\u001b[43m,\u001b[49m\n\u001b[1;32m    272\u001b[0m \u001b[43m    \u001b[49m\u001b[43mallow_unreachable\u001b[49m\u001b[38;5;241;43m=\u001b[39;49m\u001b[38;5;28;43;01mTrue\u001b[39;49;00m\u001b[43m,\u001b[49m\n\u001b[1;32m    273\u001b[0m \u001b[43m    \u001b[49m\u001b[43maccumulate_grad\u001b[49m\u001b[38;5;241;43m=\u001b[39;49m\u001b[38;5;28;43;01mTrue\u001b[39;49;00m\u001b[43m,\u001b[49m\n\u001b[1;32m    274\u001b[0m \u001b[43m\u001b[49m\u001b[43m)\u001b[49m\n",
      "\u001b[0;31mKeyboardInterrupt\u001b[0m: "
     ]
    }
   ],
   "source": [
    "importlib.reload(drc)\n",
    "importlib.reload(eval)\n",
    "model = drc.RobertaClassifier(dropout_rate = 0.2 ,device='cpu')\n",
    "criterion = torch.nn.CrossEntropyLoss()\n",
    "optimizer = torch.optim.Adam(params=model.parameters())\n",
    "\n",
    "solver = solver_llm.SolverLLM(model,\n",
    "                            optimizer,\n",
    "                            criterion)\n",
    "max_epoch = 3\n",
    "## training loop\n",
    "best = 0.0\n",
    "best_cm = None\n",
    "best_model = None\n",
    "train_acc_epoch = []\n",
    "valid_acc_epoch = []\n",
    "for epoch in range(max_epoch):\n",
    "    solver.epoch = epoch\n",
    "    # train loop\n",
    "    train_acc, train_cm = solver_llm.train(train_loader)\n",
    "    train_acc_epoch.append(train_acc.detach().cpu().numpy())\n",
    "\n",
    "    # validation loop\n",
    "    valid_acc, valid_cm = solver_llm.validate_llm(epoch)\n",
    "    valid_acc_epoch.append(valid_acc.detach().cpu().numpy())\n",
    "\n",
    "    if valid_acc > best:\n",
    "        best = valid_acc\n",
    "        best_cm = valid_cm\n",
    "        best_model = copy.deepcopy(model)\n",
    "torch.save(model.save(best_model.state_dict(), \n",
    "                '{}_{}'.format(model_name, timestamp_str)))\n",
    "print('Best Prec @1 Acccuracy: {:.4f}'.format(best))\n",
    "per_cls_acc = best_cm.diag().detach().numpy().tolist()\n",
    "for i, acc_i in enumerate(per_cls_acc):\n",
    "    print(\"Accuracy of Class {}: {:.4f}\".format(i, acc_i))\n",
    "\n",
    "plt.figure()\n",
    "plt.plot(range(max_epoch), train_acc_epoch, label='train')\n",
    "plt.plot(range(max_epoch), valid_acc_epoch, label='validation')\n",
    "plt.legend()\n",
    "plt.title(\"accuracy curve\")\n",
    "plt.xlabel('epoch')\n",
    "plt.ylabel('accuracy')\n",
    "# plt.show()"
   ]
  },
  {
   "cell_type": "code",
   "execution_count": null,
   "metadata": {},
   "outputs": [],
   "source": []
  }
 ],
 "metadata": {
  "kernelspec": {
   "display_name": "cs7643-proj",
   "language": "python",
   "name": "python3"
  },
  "language_info": {
   "codemirror_mode": {
    "name": "ipython",
    "version": 3
   },
   "file_extension": ".py",
   "mimetype": "text/x-python",
   "name": "python",
   "nbconvert_exporter": "python",
   "pygments_lexer": "ipython3",
   "version": "3.12.2"
  }
 },
 "nbformat": 4,
 "nbformat_minor": 2
}
