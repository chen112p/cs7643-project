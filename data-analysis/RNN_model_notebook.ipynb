{
 "cells": [
  {
   "cell_type": "code",
   "execution_count": null,
   "metadata": {},
   "outputs": [],
   "source": [
    "from process_tweets import get_data\n",
    "from rnn import MyModel\n",
    "from train_validate import (train, validate)\n",
    "\n",
    "import copy\n",
    "import matplotlib.pyplot as plt\n",
    "import torch\n",
    "from torch.utils.data import DataLoader"
   ]
  },
  {
   "cell_type": "code",
   "execution_count": null,
   "metadata": {},
   "outputs": [],
   "source": [
    "# hyperparameters\n",
    "train_batch_size = 250\n",
    "test_batch_size = 250\n",
    "hidden_size = 64\n",
    "embedding_size = 12\n",
    "EPOCH = 50\n",
    "train_file=\"../data/train_en.tsv\"\n",
    "test_file=\"../data/dev_en.tsv\"\n",
    "device=\"cpu\"\n",
    "\n",
    "train_dataset, test_dataset, alphabet, longest_sent, train_x, test_x = get_data(train_file, test_file)\n",
    "train_loader = DataLoader(train_dataset, batch_size=train_batch_size, shuffle=True)\n",
    "test_loader = DataLoader(test_dataset, batch_size=test_batch_size, shuffle=True)\n",
    "\n",
    "# Define inputs\n",
    "num_classes = 2\n",
    "\n",
    "model = MyModel(len(alphabet),longest_sent,embedding_size,hidden_size,num_classes,device)\n",
    "criterion = torch.nn.CrossEntropyLoss()\n",
    "optimizer = torch.optim.Adam(params=model.parameters())\n",
    "\n",
    "## training loop\n",
    "best = 0.0\n",
    "best_cm = None\n",
    "best_model = None\n",
    "acc_per_epoch = []\n",
    "for epoch in range(EPOCH):\n",
    "    # train loop\n",
    "    train(epoch, train_loader, model, optimizer, criterion)\n",
    "\n",
    "    # validation loop\n",
    "    acc, cm = validate(epoch, test_loader, model, criterion)\n",
    "    acc_per_epoch.append(acc.detach().cpu().numpy() )\n",
    "\n",
    "    if acc > best:\n",
    "        best = acc\n",
    "        best_cm = cm\n",
    "        best_model = copy.deepcopy(model)\n",
    "\n",
    "print('Best Prec @1 Acccuracy: {:.4f}'.format(best))\n",
    "per_cls_acc = best_cm.diag().detach().numpy().tolist()\n",
    "for i, acc_i in enumerate(per_cls_acc):\n",
    "    print(\"Accuracy of Class {}: {:.4f}\".format(i, acc_i))\n",
    "\n",
    "\n",
    "plt.figure()\n",
    "plt.plot(range(EPOCH), acc_per_epoch)\n",
    "plt.title(\"loss curve\")\n",
    "plt.xlabel('epoch')\n",
    "plt.ylabel('validation accuracy')\n",
    "plt.show()"
   ]
  }
 ],
 "metadata": {
  "interpreter": {
   "hash": "03af33321e8c50997747d06c5c21eb90732c28b7dbbbf890c48fc1c524afe0f7"
  },
  "kernelspec": {
   "display_name": "Python 3.10.11 ('tweets')",
   "language": "python",
   "name": "python3"
  },
  "language_info": {
   "name": "python",
   "version": "3.10.11"
  },
  "orig_nbformat": 4
 },
 "nbformat": 4,
 "nbformat_minor": 2
}
